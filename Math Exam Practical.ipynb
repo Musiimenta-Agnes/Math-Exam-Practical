{
 "cells": [
  {
   "cell_type": "code",
   "execution_count": 1,
   "id": "78c6717c",
   "metadata": {},
   "outputs": [],
   "source": [
    "import numpy as np"
   ]
  },
  {
   "cell_type": "code",
   "execution_count": 2,
   "id": "a49d1e4b",
   "metadata": {},
   "outputs": [],
   "source": [
    "from numpy import random"
   ]
  },
  {
   "cell_type": "code",
   "execution_count": 3,
   "id": "e978acfe",
   "metadata": {},
   "outputs": [],
   "source": [
    "import seaborn as sns"
   ]
  },
  {
   "cell_type": "code",
   "execution_count": 4,
   "id": "6a3c2d06",
   "metadata": {},
   "outputs": [],
   "source": [
    "import matplotlib.pyplot as plt"
   ]
  },
  {
   "cell_type": "code",
   "execution_count": null,
   "id": "92612b1f",
   "metadata": {},
   "outputs": [],
   "source": []
  },
  {
   "cell_type": "markdown",
   "id": "eafdce5e",
   "metadata": {},
   "source": [
    "# QUESTION FIVE"
   ]
  },
  {
   "cell_type": "code",
   "execution_count": 37,
   "id": "24b30039",
   "metadata": {},
   "outputs": [
    {
     "name": "stdout",
     "output_type": "stream",
     "text": [
      "[[1.  0.2 0.5]\n",
      " [0.2 1.  0.8]\n",
      " [0.5 0.8 1. ]]\n"
     ]
    }
   ],
   "source": [
    "# We create the matrix using numpy array.\n",
    "matrix = np.array([[1,0.2,0.5], [0.2,1,0.8], [0.5,0.8,1]])\n",
    "print(matrix)"
   ]
  },
  {
   "cell_type": "markdown",
   "id": "0d86e9bf",
   "metadata": {},
   "source": [
    "# (i)\n",
    "Inversion of the matrix(transpose)"
   ]
  },
  {
   "cell_type": "code",
   "execution_count": 25,
   "id": "14c65efa",
   "metadata": {},
   "outputs": [
    {
     "data": {
      "text/plain": [
       "array([[1. , 0.2, 0.5],\n",
       "       [0.2, 1. , 0.8],\n",
       "       [0.5, 0.8, 1. ]])"
      ]
     },
     "execution_count": 25,
     "metadata": {},
     "output_type": "execute_result"
    }
   ],
   "source": [
    "# We first find the transpose of the matrix and then find the inversion of the matrix using its transpose\n",
    "transpose = np.transpose(matrix)\n",
    "transpose"
   ]
  },
  {
   "cell_type": "code",
   "execution_count": 26,
   "id": "75da41fd",
   "metadata": {},
   "outputs": [],
   "source": []
  },
  {
   "cell_type": "code",
   "execution_count": 36,
   "id": "43cb9c8d",
   "metadata": {},
   "outputs": [
    {
     "data": {
      "text/plain": [
       "array([[ 1.56521739,  0.86956522, -1.47826087],\n",
       "       [ 0.86956522,  3.26086957, -3.04347826],\n",
       "       [-1.47826087, -3.04347826,  4.17391304]])"
      ]
     },
     "execution_count": 36,
     "metadata": {},
     "output_type": "execute_result"
    }
   ],
   "source": [
    "# Getting the inversion of the matrix using the matrix transpose\n",
    "inverse = np.linalg.inv(transpose)\n",
    "inverse"
   ]
  },
  {
   "cell_type": "code",
   "execution_count": null,
   "id": "f75334f3",
   "metadata": {},
   "outputs": [],
   "source": []
  },
  {
   "cell_type": "markdown",
   "id": "2c2483fe",
   "metadata": {},
   "source": [
    "# (iii)\n",
    "Determinant"
   ]
  },
  {
   "cell_type": "code",
   "execution_count": 48,
   "id": "c029c15b",
   "metadata": {},
   "outputs": [
    {
     "data": {
      "text/plain": [
       "0.2299999999999999"
      ]
     },
     "execution_count": 48,
     "metadata": {},
     "output_type": "execute_result"
    }
   ],
   "source": [
    "# Getting the determinant of the matrix, we use det to represent determinant\n",
    "determinant = np.linalg.det(matrix)\n",
    "determinant"
   ]
  },
  {
   "cell_type": "code",
   "execution_count": null,
   "id": "d6963bfe",
   "metadata": {},
   "outputs": [],
   "source": []
  },
  {
   "cell_type": "code",
   "execution_count": null,
   "id": "66c9e460",
   "metadata": {},
   "outputs": [],
   "source": []
  },
  {
   "cell_type": "markdown",
   "id": "8860f7aa",
   "metadata": {},
   "source": [
    "# (iii)\n",
    "Decompose the matrix"
   ]
  },
  {
   "cell_type": "code",
   "execution_count": null,
   "id": "c4afe948",
   "metadata": {},
   "outputs": [],
   "source": []
  },
  {
   "cell_type": "markdown",
   "id": "a7ca5c45",
   "metadata": {},
   "source": [
    "# (iv)\n",
    "Transform"
   ]
  },
  {
   "cell_type": "code",
   "execution_count": null,
   "id": "e4c5e3c4",
   "metadata": {},
   "outputs": [],
   "source": []
  },
  {
   "cell_type": "markdown",
   "id": "c1ba456a",
   "metadata": {},
   "source": [
    "# QUESTION SIX"
   ]
  },
  {
   "cell_type": "markdown",
   "id": "5039aae5",
   "metadata": {},
   "source": [
    "# (i)\n"
   ]
  },
  {
   "cell_type": "code",
   "execution_count": 8,
   "id": "50472849",
   "metadata": {},
   "outputs": [
    {
     "data": {
      "text/plain": [
       "array([ 3, 10,  2,  4,  4,  6,  6,  5,  8,  4,  9,  4,  7,  2,  2,  7,  3,\n",
       "        4,  2,  4,  2,  7,  7,  5,  4,  6,  6,  3,  2,  2,  5,  0,  2,  1,\n",
       "        3,  6,  6,  4,  4,  7,  7,  6,  4,  8,  3,  4,  3,  5,  7,  6,  7,\n",
       "        3,  5,  5,  8,  6,  5,  7, 11, 10,  4,  7,  4,  2,  3,  5,  4,  5,\n",
       "        7,  3,  5,  9,  4,  5,  5, 11,  7,  6,  0,  6,  5, 12,  7, 13,  4,\n",
       "        4,  6,  2,  1,  3,  4,  1,  5,  4,  5,  4,  6,  2,  8,  5,  2,  4,\n",
       "        2,  5,  2,  6, 10,  2,  8,  6,  4,  2,  7,  2,  7,  6,  3,  2,  4,\n",
       "        3,  8,  4,  7,  4,  4,  7,  7,  6,  8,  1,  8,  9,  5,  3,  4,  1,\n",
       "        4,  4,  4,  8,  2,  6,  7,  5,  7, 10,  7,  8,  8,  4, 10,  3,  7,\n",
       "        6,  5,  3,  5,  2,  7,  2,  6,  7,  3,  3,  1,  2,  2, 11,  8,  6,\n",
       "        6,  3,  7,  5,  4,  7,  4,  5, 13,  2,  1,  9,  5,  3,  5,  8,  4,\n",
       "        7,  2,  3,  2,  3,  8,  7,  6,  6,  4,  3,  9,  4,  6,  4,  6,  3,\n",
       "        4,  3,  9, 10,  7,  4,  6,  1,  5,  2,  4,  7,  4,  6,  3,  7,  8,\n",
       "        3,  4,  8,  9,  6,  6,  7,  6,  7,  4,  1,  7,  5,  3,  5,  2,  4,\n",
       "        5,  4,  5,  4,  4,  4,  5,  4,  3,  3,  6,  5,  6,  6,  6,  4,  7,\n",
       "        2,  2,  3,  4,  4,  6,  9,  7,  7,  4,  3,  4,  3,  9,  6,  6,  7,\n",
       "        1,  4,  3,  6,  5,  3,  6,  4,  2, 10,  5,  3,  8,  6,  5,  5,  6,\n",
       "        7,  4,  2,  1,  5, 11,  5,  2,  2,  5,  5,  9,  4,  3,  2,  7,  4,\n",
       "        0,  7,  1,  8,  4,  4,  6,  3,  3,  8,  2,  6,  1,  5,  6,  5, 11,\n",
       "        5,  5,  4,  4,  3,  5,  7,  4,  4,  2,  1,  6,  5,  4,  3,  5,  9,\n",
       "       10,  3,  6,  4,  5,  5,  4,  2,  1,  7,  7,  9,  5,  3,  3,  7,  9,\n",
       "        7,  4,  5,  5,  3,  9,  7,  0,  2,  5,  4,  3,  5,  4,  4,  8,  5,\n",
       "        4,  2,  5,  3, 10,  7,  5,  2,  1,  5,  2,  4,  4,  3,  5,  7,  4,\n",
       "        7,  4,  5,  6,  3,  2,  2,  5,  6,  2,  5,  4,  4,  3, 12,  6,  3,\n",
       "        5,  5,  4,  7,  6,  2,  3,  8,  7,  3,  5,  3,  5,  6,  3,  3,  2,\n",
       "        4,  9,  1,  2,  5,  3,  7,  4,  4,  5,  6,  2,  4,  5,  9,  2,  7,\n",
       "        9,  6,  3,  2,  8,  8,  2,  8,  4,  5,  6,  5,  2,  6,  8,  2,  7,\n",
       "        4,  8,  4,  9,  7,  6,  4,  4,  3,  7,  3,  5,  5,  4,  3,  5,  8,\n",
       "        6,  5,  7,  5,  1,  2,  8,  5,  2,  8,  4,  5,  5,  7,  7,  4,  2,\n",
       "        7,  7,  5,  4,  4,  5,  6,  2,  5,  7,  2,  5,  5,  7,  2,  4,  2,\n",
       "        4,  2,  2,  5,  2,  7,  3, 10,  5,  2,  7,  6,  6,  6,  8,  3,  4,\n",
       "        4,  2,  7,  3,  5,  2,  6,  7,  7,  5,  3,  4,  7,  5,  6,  6,  5,\n",
       "        9,  4,  5,  7,  8,  4,  5,  6,  3,  8,  5,  5,  7,  3,  3,  6,  6,\n",
       "        3,  2,  6,  9,  4,  6,  5,  5,  3,  7,  3,  2,  3,  4,  5,  3,  5,\n",
       "        6,  7,  8,  5,  5,  4, 11,  5,  5,  4,  4,  5,  3,  2,  9,  4,  3,\n",
       "        7,  7,  2,  1,  5,  4,  2,  8,  5,  7,  6,  6,  5, 10,  2,  7,  8,\n",
       "        7,  6,  6,  9,  1,  7,  8,  4,  5,  5,  3,  2,  6,  5,  6,  3,  5,\n",
       "        3,  6,  8,  4,  4,  4,  4,  3,  1,  3,  9,  1,  6,  4,  5,  6,  6,\n",
       "        7,  6,  6,  9,  4,  8,  7, 10, 10,  5,  0,  4,  7,  6,  5,  6,  6,\n",
       "        5,  9,  5,  3,  5,  7,  5,  4,  2,  4,  9,  2,  4,  7, 11,  3,  4,\n",
       "       12,  3,  2,  8, 10,  2,  7,  8,  2,  8,  6,  5,  4,  5,  0,  8,  6,\n",
       "        6,  7,  5,  3,  8,  4,  1,  3,  4,  5,  6,  6,  3,  5,  5,  3,  5,\n",
       "        6,  5,  3,  6, 10,  5,  6,  3,  3,  4,  4,  3,  1,  4,  2,  4,  6,\n",
       "        2,  4,  7,  6,  4,  6,  6,  5,  1,  9,  4,  6,  6,  1,  6,  6,  5,\n",
       "        7,  6,  6,  0,  3,  6,  6,  8, 10,  3,  3,  6,  2,  5,  6,  3,  5,\n",
       "        5,  9,  6,  4,  2,  5,  2,  7,  4,  8, 10,  3,  4,  7,  7,  3,  7,\n",
       "        7,  3,  3,  4,  1,  5,  5,  7,  4,  6,  4,  4,  7, 11,  6,  4,  8,\n",
       "        7,  4,  6,  6,  5,  2,  3,  2,  7,  3,  8,  6,  3,  5,  5,  9,  3,\n",
       "        3,  5,  4,  5,  4,  3,  4,  5,  5,  3,  5,  3,  2,  6,  6,  6,  6,\n",
       "        4,  5,  4,  6,  5,  2,  4,  6,  5,  4,  3,  6,  7,  2,  5,  8,  8,\n",
       "        6,  6,  4,  0,  6,  1,  3,  9,  4,  4,  4,  3,  1,  5,  4,  4,  3,\n",
       "       10,  5,  7,  7,  5,  6,  5,  9,  4,  3,  4,  3,  7,  5,  4,  6,  3,\n",
       "        6,  5,  4,  6,  3,  5,  4, 10,  4,  4,  5,  7,  6,  6,  8,  7,  3,\n",
       "        4,  6,  4,  6,  6,  3,  5,  5,  3,  6,  4,  4,  6,  3,  3,  7,  8,\n",
       "        4,  3,  5,  2,  0,  5,  7,  4,  3,  2,  4,  4,  2,  3,  4,  1,  5,\n",
       "        7,  3,  6,  6,  5,  3,  5,  3,  4,  3,  4,  2,  5,  6,  3,  4,  5,\n",
       "        2,  5,  6,  0,  9,  7,  9,  4,  9,  5,  5,  1,  5,  5,  4,  3,  4,\n",
       "        8,  3,  4,  6,  6,  5,  4,  5,  9,  3,  2,  7,  4,  2,  4,  3,  1,\n",
       "        6,  5,  5,  2,  6,  3,  5,  8,  3,  3,  8,  9,  4,  6])"
      ]
     },
     "execution_count": 8,
     "metadata": {},
     "output_type": "execute_result"
    }
   ],
   "source": [
    "poisson_data = random.poisson(lam = 5, size = 1000)\n",
    "poisson_data"
   ]
  },
  {
   "cell_type": "code",
   "execution_count": null,
   "id": "29513782",
   "metadata": {},
   "outputs": [],
   "source": []
  },
  {
   "cell_type": "markdown",
   "id": "7063f68e",
   "metadata": {},
   "source": [
    "# (ii)\n",
    "Mean and Variance"
   ]
  },
  {
   "cell_type": "code",
   "execution_count": 11,
   "id": "ede6f9bf",
   "metadata": {},
   "outputs": [],
   "source": [
    "# Mean"
   ]
  },
  {
   "cell_type": "code",
   "execution_count": 51,
   "id": "b9ffea51",
   "metadata": {},
   "outputs": [
    {
     "data": {
      "text/plain": [
       "4.987"
      ]
     },
     "execution_count": 51,
     "metadata": {},
     "output_type": "execute_result"
    }
   ],
   "source": [
    "# Finding the mean using numpy.mean()\n",
    "mean = np.mean(poisson_data)\n",
    "mean"
   ]
  },
  {
   "cell_type": "code",
   "execution_count": null,
   "id": "566d83bb",
   "metadata": {},
   "outputs": [],
   "source": []
  },
  {
   "cell_type": "code",
   "execution_count": 13,
   "id": "b371509a",
   "metadata": {},
   "outputs": [],
   "source": [
    "# Variance"
   ]
  },
  {
   "cell_type": "code",
   "execution_count": 52,
   "id": "ed9485d8",
   "metadata": {},
   "outputs": [
    {
     "data": {
      "text/plain": [
       "4.926831"
      ]
     },
     "execution_count": 52,
     "metadata": {},
     "output_type": "execute_result"
    }
   ],
   "source": [
    "# Finding the variance using numpy.var()\n",
    "variance = np.var(poisson_data)\n",
    "variance"
   ]
  },
  {
   "cell_type": "code",
   "execution_count": null,
   "id": "cd6774ca",
   "metadata": {},
   "outputs": [],
   "source": []
  },
  {
   "cell_type": "markdown",
   "id": "f8eeea62",
   "metadata": {},
   "source": [
    "# (iii)"
   ]
  },
  {
   "cell_type": "code",
   "execution_count": 53,
   "id": "a3c230b5",
   "metadata": {},
   "outputs": [
    {
     "data": {
      "image/png": "[encoded data removed]",
      "text/plain": [
       "<Figure size 640x480 with 1 Axes>"
      ]
     },
     "metadata": {},
     "output_type": "display_data"
    }
   ],
   "source": [
    "poisson_data = random.poisson(lam = 5, size = 1000)\n",
    "sns.histplot(poisson_data, label = 'Poisson Distribution', kde = False, color = 'black')\n",
    "plt.title('Visualisation of Poisson Distribution')\n",
    "plt.xlabel('X-axis')\n",
    "plt.ylabel('Y- axis')\n",
    "plt.legend()\n",
    "plt.show()"
   ]
  },
  {
   "cell_type": "code",
   "execution_count": null,
   "id": "160581ba",
   "metadata": {},
   "outputs": [],
   "source": []
  },
  {
   "cell_type": "code",
   "execution_count": null,
   "id": "45411eaf",
   "metadata": {},
   "outputs": [],
   "source": []
  },
  {
   "cell_type": "code",
   "execution_count": null,
   "id": "d22e2521",
   "metadata": {},
   "outputs": [],
   "source": []
  },
  {
   "cell_type": "code",
   "execution_count": null,
   "id": "4c66c92e",
   "metadata": {},
   "outputs": [],
   "source": []
  },
  {
   "cell_type": "code",
   "execution_count": null,
   "id": "b2fe4e86",
   "metadata": {},
   "outputs": [],
   "source": []
  },
  {
   "cell_type": "code",
   "execution_count": null,
   "id": "a48bf6c0",
   "metadata": {},
   "outputs": [],
   "source": []
  }
 ],
 "metadata": {
  "kernelspec": {
   "display_name": "Python 3 (ipykernel)",
   "language": "python",
   "name": "python3"
  },
  "language_info": {
   "codemirror_mode": {
    "name": "ipython",
    "version": 3
   },
   "file_extension": ".py",
   "mimetype": "text/x-python",
   "name": "python",
   "nbconvert_exporter": "python",
   "pygments_lexer": "ipython3",
   "version": "3.11.4"
  }
 },
 "nbformat": 4,
 "nbformat_minor": 5
}
